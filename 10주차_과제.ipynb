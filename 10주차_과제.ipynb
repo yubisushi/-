{
  "nbformat": 4,
  "nbformat_minor": 0,
  "metadata": {
    "colab": {
      "provenance": [],
      "authorship_tag": "ABX9TyP/AukYG0Ri4XJI6NUB7/AT",
      "include_colab_link": true
    },
    "kernelspec": {
      "name": "python3",
      "display_name": "Python 3"
    },
    "language_info": {
      "name": "python"
    }
  },
  "cells": [
    {
      "cell_type": "markdown",
      "metadata": {
        "id": "view-in-github",
        "colab_type": "text"
      },
      "source": [
        "<a href=\"https://colab.research.google.com/github/yubisushi/-/blob/main/10%EC%A3%BC%EC%B0%A8_%EA%B3%BC%EC%A0%9C.ipynb\" target=\"_parent\"><img src=\"https://colab.research.google.com/assets/colab-badge.svg\" alt=\"Open In Colab\"/></a>"
      ]
    },
    {
      "cell_type": "code",
      "execution_count": 1,
      "metadata": {
        "colab": {
          "base_uri": "https://localhost:8080/",
          "height": 582
        },
        "id": "2W7_WrBCyqXe",
        "outputId": "80b99e70-7e8e-40da-a2b7-7148aeb2e2ce"
      },
      "outputs": [
        {
          "output_type": "stream",
          "name": "stdout",
          "text": [
            "Epoch 1: MSE=2.5266, MAPE=219.46%\n",
            "Epoch 10: MSE=2.5035, MAPE=223.08%\n",
            "Epoch 20: MSE=2.4778, MAPE=227.19%\n",
            "Epoch 30: MSE=2.4521, MAPE=231.36%\n",
            "Epoch 40: MSE=2.4264, MAPE=235.58%\n",
            "Epoch 50: MSE=2.4008, MAPE=239.83%\n"
          ]
        },
        {
          "output_type": "display_data",
          "data": {
            "text/plain": [
              "<Figure size 640x480 with 1 Axes>"
            ],
            "image/png": "[encoded data removed]"
          },
          "metadata": {}
        }
      ],
      "source": [
        "import numpy as np\n",
        "import matplotlib.pyplot as plt\n",
        "\n",
        "\n",
        "def sigmoid(x):\n",
        "    return 1 / (1 + np.exp(-x))\n",
        "\n",
        "def sigmoid_deriv(x):\n",
        "    return sigmoid(x) * (1 - sigmoid(x))\n",
        "\n",
        "\n",
        "def mse(y_true, y_pred):\n",
        "    return np.mean((y_true - y_pred)**2)\n",
        "\n",
        "def mape(y_true, y_pred):\n",
        "    return np.mean(np.abs((y_true - y_pred) / (y_true + 1e-8))) * 100\n",
        "\n",
        "\n",
        "np.random.seed(0)\n",
        "samples = 1000\n",
        "x1 = np.random.uniform(0, 1, samples)\n",
        "x2 = np.random.uniform(0, 1, samples)\n",
        "X = np.column_stack((x1, x2))\n",
        "y = 2 * x1 + 3 * x2 - 1\n",
        "y = y.reshape(-1, 1)\n",
        "\n",
        "\n",
        "input_dim = 2\n",
        "hidden_dim = 3\n",
        "output_dim = 1\n",
        "lr = 0.01\n",
        "epochs = 50\n",
        "\n",
        "\n",
        "W1 = np.random.randn(input_dim, hidden_dim)\n",
        "b1 = np.zeros((1, hidden_dim))\n",
        "W2 = np.random.randn(hidden_dim, output_dim)\n",
        "b2 = np.zeros((1, output_dim))\n",
        "\n",
        "\n",
        "mse_list, mape_list = [], []\n",
        "\n",
        "for epoch in range(epochs):\n",
        "\n",
        "    Z1 = X @ W1 + b1\n",
        "    A1 = sigmoid(Z1)\n",
        "    Z2 = A1 @ W2 + b2\n",
        "    y_hat = sigmoid(Z2)\n",
        "\n",
        "\n",
        "    loss_mse = mse(y, y_hat)\n",
        "    loss_mape = mape(y, y_hat)\n",
        "    mse_list.append(loss_mse)\n",
        "    mape_list.append(loss_mape)\n",
        "\n",
        "\n",
        "    dZ2 = (y_hat - y) * sigmoid_deriv(Z2)\n",
        "    dW2 = A1.T @ dZ2 / samples\n",
        "    db2 = np.sum(dZ2, axis=0, keepdims=True) / samples\n",
        "\n",
        "    dA1 = dZ2 @ W2.T\n",
        "    dZ1 = dA1 * sigmoid_deriv(Z1)\n",
        "    dW1 = X.T @ dZ1 / samples\n",
        "    db1 = np.sum(dZ1, axis=0, keepdims=True) / samples\n",
        "\n",
        "\n",
        "    W2 -= lr * dW2\n",
        "    b2 -= lr * db2\n",
        "    W1 -= lr * dW1\n",
        "    b1 -= lr * db1\n",
        "\n",
        "\n",
        "    if (epoch + 1) % 10 == 0 or epoch == 0:\n",
        "        print(f\"Epoch {epoch+1}: MSE={loss_mse:.4f}, MAPE={loss_mape:.2f}%\")\n",
        "\n",
        "\n",
        "plt.plot(mse_list, label='MSE')\n",
        "plt.plot(mape_list, label='MAPE')\n",
        "plt.xlabel('Epoch')\n",
        "plt.ylabel('Loss')\n",
        "plt.title('Training Loss')\n",
        "plt.legend()\n",
        "plt.show()\n"
      ]
    }
  ]
}